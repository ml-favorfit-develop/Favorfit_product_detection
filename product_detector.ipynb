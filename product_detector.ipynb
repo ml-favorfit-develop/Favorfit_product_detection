{
 "cells": [
  {
   "cell_type": "code",
   "execution_count": 1,
   "metadata": {},
   "outputs": [],
   "source": [
    "import torch\n",
    "from torch import nn, optim\n",
    "import torchvision\n",
    "from torchvision import datasets, models, transforms\n",
    "from torch.utils.data import Dataset, DataLoader, random_split\n",
    "\n",
    "import glob\n",
    "import os\n",
    "\n",
    "import warnings\n",
    "from PIL import Image\n",
    "\n",
    "# PIL 경고 메시지 OFF\n",
    "warnings.simplefilter('ignore', Image.DecompressionBombWarning)\n",
    "Image.MAX_IMAGE_PIXELS = 1000000000"
   ]
  },
  {
   "attachments": {},
   "cell_type": "markdown",
   "metadata": {},
   "source": [
    "---\n",
    "## Progress Bar 함수"
   ]
  },
  {
   "cell_type": "code",
   "execution_count": 2,
   "metadata": {},
   "outputs": [],
   "source": [
    "# 프로그레스 바를 출력하는 함수\n",
    "def print_progress_bar(iteration, total, prefix='Complete', suffix='', decimals=5, length=100, fill='█', print_end='\\r'):\n",
    "    \"\"\"\n",
    "    Parameters:\n",
    "        iteration (int): 현재 진행된 작업 수\n",
    "        total (int): 전체 작업 수\n",
    "        prefix (str): 프로그레스 바 앞에 추가할 텍스트\n",
    "        suffix (str): 프로그레스 바 뒤에 추가할 텍스트\n",
    "        decimals (int): 백분율에서 소수점 이하 자릿수\n",
    "        length (int): 프로그레스 바의 총 길이 (글자 수)\n",
    "        fill (str): 프로그레스 바의 채우는 문자\n",
    "        print_end (str): 프로그레스 바 출력 후 커서의 위치를 조정하는 문자열\n",
    "    \"\"\"\n",
    "    # 현재 진행된 작업의 백분율 계산\n",
    "    percent = (\"{0:.\" + str(decimals) + \"f}\").format(100 * (iteration / float(total)))\n",
    "\n",
    "    # 프로그레스 바의 채워진 길이 계산\n",
    "    filled_length = int(length * iteration // total)\n",
    "\n",
    "    # 프로그레스 바 출력\n",
    "    bar = fill * filled_length + '-' * (length - filled_length)\n",
    "    print(f'\\r{prefix} |{bar}| {percent}% {suffix}', end=print_end)\n",
    "\n",
    "    # 모든 작업이 끝나면 줄바꿈\n",
    "    if iteration == total:\n",
    "        print()"
   ]
  },
  {
   "attachments": {},
   "cell_type": "markdown",
   "metadata": {},
   "source": [
    "---\n",
    "\n",
    "## 데이터셋 정의"
   ]
  },
  {
   "cell_type": "code",
   "execution_count": 232,
   "metadata": {},
   "outputs": [],
   "source": [
    "# 데이터셋\n",
    "class product_img_detection_dataset(Dataset):\n",
    "    images = []\n",
    "\n",
    "    def __init__(self, root_dir, train_transform = None, val_transform = None, is_train_phase = True):\n",
    "        self.root_dir = root_dir\n",
    "\n",
    "        for lable in os.listdir(root_dir):\n",
    "            img_list = glob.glob(root_dir + \"/\" + lable + \"/*/*\")\n",
    "            self.images.extend([(img, lable) for img in img_list])\n",
    "        \n",
    "        # train 페이즈, val 페이즈에서 다른 transformer를 적용하기 위해\n",
    "        self.train_transform = train_transform\n",
    "        self.val_transform = val_transform\n",
    "        self.is_train_phase = is_train_phase\n",
    "\n",
    "        self.images = self.validate_images(self.images)\n",
    "\n",
    "    # 열 수 없는 이미지들은 데이터셋에 로드하지 않음\n",
    "    def validate_images(self, img_list):\n",
    "        valid_imgs = []\n",
    "        for idx, (img, label) in enumerate(img_list):\n",
    "            try:\n",
    "                im = Image.open(img)\n",
    "                im.verify()\n",
    "                valid_imgs.append((img, label))\n",
    "            except:\n",
    "                print(f'\\r{idx+1} / {len(img_list)}: {img}', end=\"\\r\")  # 열 수 없는 이미지의 경우 \"이미지인덱스/전체이미지개수\" 출력\n",
    "        return valid_imgs\n",
    "    \n",
    "    def __len__(self):\n",
    "        return len(self.images)\n",
    "    \n",
    "    def __getitem__(self, idx):\n",
    "        image, label = self.images[idx]\n",
    "\n",
    "        try:\n",
    "            image = Image.open(image).convert('RGB')\n",
    "\n",
    "            if self.is_train_phase:\n",
    "                if self.train_transform:\n",
    "                    image = self.train_transform(image)\n",
    "            else:\n",
    "                if self.val_transform:\n",
    "                    image = self.val_transform(image)\n",
    "            \n",
    "            if label == \"TRUE\":\n",
    "                label = 1\n",
    "            elif label == \"FALSE\":\n",
    "                label = 0\n",
    "        \n",
    "        except:\n",
    "            # 알 수 없는 오류가 발생했을 때, dummy값으로 black 이미지와 0을 레이블로 반환\n",
    "            dummy_image = torch.zeros([3, 224, 224])\n",
    "            dummy_label = 0\n",
    "            return dummy_image, dummy_label\n",
    "\n",
    "        return image, label"
   ]
  },
  {
   "attachments": {},
   "cell_type": "markdown",
   "metadata": {},
   "source": [
    "## 트랜스포머(전처리) 정의"
   ]
  },
  {
   "cell_type": "code",
   "execution_count": 230,
   "metadata": {},
   "outputs": [],
   "source": [
    "data_transforms = {\n",
    "    \"train\" : transforms.Compose([\n",
    "        transforms.Resize(256),\n",
    "        transforms.RandomResizedCrop(224),  # 훈련 단계에서는 Random으로 크롭\n",
    "        transforms.RandomHorizontalFlip(),\n",
    "        transforms.ToTensor(),\n",
    "        transforms.Normalize([0.485, 0.456, 0.406], [0.229, 0.224, 0.225])\n",
    "    ]),\n",
    "    \"val\" : transforms.Compose([\n",
    "        transforms.Resize(256),\n",
    "        transforms.CenterCrop(224), # 평가 단계에서는 중앙으로 크롭\n",
    "        transforms.ToTensor(),\n",
    "        transforms.Normalize([0.485, 0.456, 0.406], [0.229, 0.224, 0.225])\n",
    "    ])\n",
    "}"
   ]
  },
  {
   "attachments": {},
   "cell_type": "markdown",
   "metadata": {},
   "source": [
    "## 데이터셋 불러오기"
   ]
  },
  {
   "cell_type": "code",
   "execution_count": null,
   "metadata": {},
   "outputs": [],
   "source": [
    "dataset_path = r\"D:/FAVORFIT/product_img_detect_data\"\n",
    "\n",
    "full_dataset = product_img_detection_dataset(dataset_path.replace(\"\\\\\",\"/\"), \n",
    "                                             train_transform = data_transforms[\"train\"],\n",
    "                                             val_transform = data_transforms[\"val\"])"
   ]
  },
  {
   "cell_type": "code",
   "execution_count": 24,
   "metadata": {},
   "outputs": [],
   "source": [
    "# 8:2로 (train, val) subdataset 분할\n",
    "train_size = int(0.8 * len(full_dataset))\n",
    "val_size = len(full_dataset) - train_size\n",
    "\n",
    "train_dataset, val_dataset = random_split(full_dataset, [train_size, val_size])"
   ]
  },
  {
   "cell_type": "code",
   "execution_count": 25,
   "metadata": {},
   "outputs": [],
   "source": [
    "# subdataset의 is_train_phase 변수 조절 (train, val 페이즈마다 다른 transformer 적용 위해)\n",
    "train_dataset = torch.utils.data.Subset(full_dataset, train_dataset.indices)\n",
    "train_dataset.dataset.is_train_phase = True\n",
    "val_dataset = torch.utils.data.Subset(full_dataset, val_dataset.indices)\n",
    "val_dataset.dataset.is_train_phase = False"
   ]
  },
  {
   "attachments": {},
   "cell_type": "markdown",
   "metadata": {},
   "source": [
    "## 데이터로더 정의"
   ]
  },
  {
   "cell_type": "code",
   "execution_count": 55,
   "metadata": {},
   "outputs": [],
   "source": [
    "train_dataloader = DataLoader(train_dataset, batch_size=32, shuffle=True, num_workers=4)\n",
    "val_dataloader = DataLoader(val_dataset, batch_size=32, shuffle=True, num_workers=4)"
   ]
  },
  {
   "attachments": {},
   "cell_type": "markdown",
   "metadata": {},
   "source": [
    "---\n",
    "## Resnet50 사전학습 모델 불러오기"
   ]
  },
  {
   "cell_type": "code",
   "execution_count": 56,
   "metadata": {},
   "outputs": [],
   "source": [
    "model = models.resnet50(pretrained=True)"
   ]
  },
  {
   "cell_type": "code",
   "execution_count": 57,
   "metadata": {},
   "outputs": [],
   "source": [
    "# out이 2개가 되도록 마지막 레이어 추가\n",
    "num_ftrs = model.fc.in_features\n",
    "models.fc = nn.Linear(num_ftrs, 2)"
   ]
  },
  {
   "attachments": {},
   "cell_type": "markdown",
   "metadata": {},
   "source": [
    "## 손실함수, 옵티마이저\n",
    "- lr과 momentum은 고민 안 했음"
   ]
  },
  {
   "cell_type": "code",
   "execution_count": 58,
   "metadata": {},
   "outputs": [],
   "source": [
    "criterion = nn.CrossEntropyLoss()\n",
    "optimizer = optim.SGD(model.parameters(), lr=0.001, momentum=0.9)"
   ]
  },
  {
   "attachments": {},
   "cell_type": "markdown",
   "metadata": {},
   "source": [
    "## GPU 사용 준비"
   ]
  },
  {
   "cell_type": "code",
   "execution_count": 62,
   "metadata": {},
   "outputs": [],
   "source": [
    "import torch, gc\n",
    "gc.collect()\n",
    "torch.cuda.empty_cache()"
   ]
  },
  {
   "cell_type": "code",
   "execution_count": 63,
   "metadata": {},
   "outputs": [],
   "source": [
    "device = torch.device(\"cuda\" if torch.cuda.is_available() else \"cpu\")\n",
    "model = model.to(device)"
   ]
  },
  {
   "attachments": {},
   "cell_type": "markdown",
   "metadata": {},
   "source": [
    "## 학습 시작\n",
    "- Epoch 3 때 멈췄어야 했다.."
   ]
  },
  {
   "cell_type": "code",
   "execution_count": 64,
   "metadata": {},
   "outputs": [
    {
     "name": "stdout",
     "output_type": "stream",
     "text": [
      "Epoch 1/50\n",
      "Complete |████████████████████████████████████████████████████████████████████████████████████████████████████| 100.00000% \n",
      "train Loss: 0.5366 Acc: 0.7776\n",
      "Complete |████████████████████████████████████████████████████████████████████████████████████████████████████| 100.00000% \n",
      "val Loss: 0.4326 Acc: 0.8088\n",
      "Epoch 2/50\n",
      "Complete |████████████████████████████████████████████████████████████████████████████████████████████████████| 100.00000% \n",
      "train Loss: 0.4048 Acc: 0.8162\n",
      "Complete |████████████████████████████████████████████████████████████████████████████████████████████████████| 100.00000% \n",
      "val Loss: 0.4023 Acc: 0.8224\n",
      "Epoch 3/50\n",
      "Complete |████████████████████████████████████████████████████████████████████████████████████████████████████| 100.00000% \n",
      "train Loss: 0.3840 Acc: 0.8274\n",
      "Complete |████████████████████████████████████████████████████████████████████████████████████████████████████| 100.00000% \n",
      "val Loss: 0.3866 Acc: 0.8303\n",
      "Epoch 4/50\n",
      "Complete |████████████████████████████████████████████████████████████████████████████████████████████████████| 100.00000% \n",
      "train Loss: 0.3681 Acc: 0.8378\n",
      "Complete |████████████████████████████████████████████████████████████████████████████████████████████████████| 100.00000% \n",
      "val Loss: 0.3866 Acc: 0.8275\n",
      "Epoch 5/50\n",
      "Complete |████████████████████████████████████████████████████████████████████████████████████████████████████| 100.00000% \n",
      "train Loss: 0.3504 Acc: 0.8463\n",
      "Complete |████████████████████████████████████████████████████████████████████████████████████████████████████| 100.00000% \n",
      "val Loss: 0.3920 Acc: 0.8247\n",
      "Epoch 6/50\n",
      "Complete |████████████████████████████████████████████████████████████████████████████████████████████████████| 100.00000% \n",
      "train Loss: 0.3353 Acc: 0.8527\n",
      "Complete |████████████████████████████████████████████████████████████████████████████████████████████████████| 100.00000% \n",
      "val Loss: 0.4069 Acc: 0.8279\n",
      "Epoch 7/50\n",
      "Complete |████████████████████████████████████████████████████████████████████████████████████████████████████| 100.00000% \n",
      "train Loss: 0.3188 Acc: 0.8617\n",
      "Complete |████████████████████████████████████████████████████████████████████████████████████████████████████| 100.00000% \n",
      "val Loss: 0.4018 Acc: 0.8303\n",
      "Epoch 8/50\n",
      "Complete |████████████████████████████████████████████████████████████████████████████████████████████████████| 100.00000% \n",
      "train Loss: 0.3113 Acc: 0.8627\n",
      "Complete |████████████████████████████████████████████████████████████████████████████████████████████████████| 100.00000% \n",
      "val Loss: 0.4104 Acc: 0.8235\n",
      "Epoch 9/50\n",
      "Complete |████████████████████████████████████████████████████████████████████████████████████████████████████| 100.00000% \n",
      "train Loss: 0.3008 Acc: 0.8693\n",
      "Complete |████████████████████████████████████████████████████████████████████████████████████████████████████| 100.00000% \n",
      "val Loss: 0.4082 Acc: 0.8308\n",
      "Epoch 10/50\n",
      "Complete |████████████████████████████████████████████████████████████████████████████████████████████████████| 100.00000% \n",
      "train Loss: 0.2896 Acc: 0.8743\n",
      "Complete |████████████████████████████████████████████████████████████████████████████████████████████████████| 100.00000% \n",
      "val Loss: 0.4232 Acc: 0.8291\n",
      "Epoch 11/50\n",
      "Complete |██████████████████████████████████████████████████████████████████████████████████████████████------| 94.78261% \r"
     ]
    },
    {
     "ename": "KeyboardInterrupt",
     "evalue": "",
     "output_type": "error",
     "traceback": [
      "\u001b[1;31m---------------------------------------------------------------------------\u001b[0m",
      "\u001b[1;31mKeyboardInterrupt\u001b[0m                         Traceback (most recent call last)",
      "Cell \u001b[1;32mIn[64], line 40\u001b[0m\n\u001b[0;32m     37\u001b[0m         optimizer\u001b[39m.\u001b[39mstep()\n\u001b[0;32m     39\u001b[0m \u001b[39m# Statistics\u001b[39;00m\n\u001b[1;32m---> 40\u001b[0m running_loss \u001b[39m+\u001b[39m\u001b[39m=\u001b[39m loss\u001b[39m.\u001b[39mitem() \u001b[39m*\u001b[39m inputs\u001b[39m.\u001b[39msize(\u001b[39m0\u001b[39m)\n\u001b[0;32m     41\u001b[0m running_corrects \u001b[39m+\u001b[39m\u001b[39m=\u001b[39m torch\u001b[39m.\u001b[39msum(preds \u001b[39m==\u001b[39m labels\u001b[39m.\u001b[39mdata)\n\u001b[0;32m     42\u001b[0m iteration \u001b[39m+\u001b[39m\u001b[39m=\u001b[39m \u001b[39m1\u001b[39m\n",
      "\u001b[1;31mKeyboardInterrupt\u001b[0m: "
     ]
    }
   ],
   "source": [
    "results = []    # Epoch 마다 Loss, Acc, Error 저장\n",
    "\n",
    "num_epochs = 50 # Epochs 수\n",
    "\n",
    "for epoch in range(num_epochs):\n",
    "    print(f\"Epoch {epoch+1}/{num_epochs}\")\n",
    "\n",
    "    # train 페이즈, val 페이즈\n",
    "    for phase in ['train', 'val']:\n",
    "        if phase == 'train':\n",
    "            dataloader = train_dataloader\n",
    "            model.train()\n",
    "        else:\n",
    "            dataloader = val_dataloader\n",
    "            model.eval()\n",
    "\n",
    "\n",
    "        running_loss = 0.0\n",
    "        running_corrects = 0\n",
    "        iteration = 0\n",
    "        total = len(dataloader)\n",
    "        error_counter = 0\n",
    "\n",
    "\n",
    "        # iterate\n",
    "        for inputs, labels in dataloader:\n",
    "\n",
    "            inputs = inputs.to(device)\n",
    "            labels = labels.to(device)\n",
    "\n",
    "            optimizer.zero_grad()\n",
    "            \n",
    "            with torch.set_grad_enabled(phase == 'train'):\n",
    "                outputs = model(inputs)\n",
    "                _, preds = torch.max(outputs, 1)\n",
    "                loss = criterion(outputs, labels)\n",
    "\n",
    "                # train일 경우 가중치 업데이트\n",
    "                if phase == 'train':\n",
    "                    loss.backward()\n",
    "                    optimizer.step()\n",
    "\n",
    "            # Loss, Acc 계산\n",
    "            running_loss += loss.item() * inputs.size(0)\n",
    "            running_corrects += torch.sum(preds == labels.data)\n",
    "            \n",
    "            # 프로그레스바 출력\n",
    "            iteration += 1\n",
    "            print_progress_bar(iteration, total)\n",
    "\n",
    "        epoch_loss = running_loss / (len(dataloader.dataset) - error_counter)\n",
    "        epoch_acc = running_corrects.double() / (len(dataloader.dataset) - error_counter)\n",
    "\n",
    "        print(f'{phase} Loss: {epoch_loss:.4f} Acc: {epoch_acc:.4f}')\n",
    "\n",
    "\n",
    "\n",
    "        # 결과 저장\n",
    "        results.append({\n",
    "            'epoch': epoch+1,\n",
    "            'phase': phase,\n",
    "            'loss': epoch_loss,\n",
    "            'accuracy': epoch_acc.item(),\n",
    "            'error' : error_counter\n",
    "        })"
   ]
  },
  {
   "attachments": {},
   "cell_type": "markdown",
   "metadata": {},
   "source": [
    "## 모델 저장하기"
   ]
  },
  {
   "cell_type": "code",
   "execution_count": null,
   "metadata": {},
   "outputs": [],
   "source": [
    "torch.save(model.state_dict(), 'resnet_11epoch_loss.pth')"
   ]
  },
  {
   "attachments": {},
   "cell_type": "markdown",
   "metadata": {},
   "source": [
    "---\n",
    "## 결과 확인"
   ]
  },
  {
   "cell_type": "code",
   "execution_count": 6,
   "metadata": {},
   "outputs": [],
   "source": [
    "data_transforms = {\n",
    "    \"train\" : transforms.Compose([\n",
    "        transforms.Resize(256),\n",
    "        transforms.RandomResizedCrop(224),  # 훈련 단계에서는 Random으로 크롭\n",
    "        transforms.RandomHorizontalFlip(),\n",
    "        transforms.ToTensor(),\n",
    "        transforms.Normalize([0.485, 0.456, 0.406], [0.229, 0.224, 0.225])\n",
    "    ]),\n",
    "    \"val\" : transforms.Compose([\n",
    "        transforms.Resize(256),\n",
    "        transforms.CenterCrop(224), # 평가 단계에서는 중앙으로 크롭\n",
    "        transforms.ToTensor(),\n",
    "        transforms.Normalize([0.485, 0.456, 0.406], [0.229, 0.224, 0.225])\n",
    "    ])\n",
    "}"
   ]
  },
  {
   "cell_type": "code",
   "execution_count": 2,
   "metadata": {},
   "outputs": [],
   "source": [
    "import matplotlib.pyplot as plt\n",
    "import numpy as np\n",
    "\n",
    "device = torch.device(\"cuda\" if torch.cuda.is_available() else \"cpu\")"
   ]
  },
  {
   "cell_type": "code",
   "execution_count": 3,
   "metadata": {},
   "outputs": [],
   "source": [
    "# 이미지 전처리, tensor로 리턴\n",
    "def img_preprocess(img_path):\n",
    "    image = Image.open(img_path).convert('RGB')\n",
    "    preprocessed_img_tensor = data_transforms[\"val\"](image).to(device)\n",
    "\n",
    "    return preprocessed_img_tensor\n",
    "\n",
    "# 이미지 시각화\n",
    "def img_show(preprocessed_img_tensor):\n",
    "    img_to_show = preprocessed_img_tensor.cpu().numpy().transpose((1, 2, 0))\n",
    "    plt.imshow(np.clip(img_to_show,0,1))\n",
    "\n",
    "\n",
    "# 모델 실행\n",
    "def run_model(model, preprocessed_img_tensor):\n",
    "\n",
    "    model.eval()\n",
    "    outputs = model(preprocessed_img_tensor.unsqueeze(0))\n",
    "    result = torch.max(outputs, 1)\n",
    "\n",
    "    return \"product\" if result.indices.item()==True else \"not product\" \n"
   ]
  },
  {
   "cell_type": "code",
   "execution_count": 4,
   "metadata": {},
   "outputs": [],
   "source": [
    "model = torchvision.models.resnet50()\n",
    "model.load_state_dict(torch.load(\"resnet_11epoch_loss.pth\"))\n",
    "model = model.to(device)"
   ]
  },
  {
   "cell_type": "code",
   "execution_count": 5,
   "metadata": {},
   "outputs": [
    {
     "ename": "NameError",
     "evalue": "name 'data_transforms' is not defined",
     "output_type": "error",
     "traceback": [
      "\u001b[1;31m---------------------------------------------------------------------------\u001b[0m",
      "\u001b[1;31mNameError\u001b[0m                                 Traceback (most recent call last)",
      "Cell \u001b[1;32mIn[5], line 6\u001b[0m\n\u001b[0;32m      1\u001b[0m \u001b[39m# 이미지 path 입력\u001b[39;00m\n\u001b[0;32m      2\u001b[0m img_path \u001b[39m=\u001b[39m \u001b[39mr\u001b[39m\u001b[39m\"\u001b[39m\u001b[39mD:\u001b[39m\u001b[39m\\\u001b[39m\u001b[39mFAVORFIT\u001b[39m\u001b[39m\\\u001b[39m\u001b[39mproduct_imgs_each_tags\u001b[39m\u001b[39m\\\u001b[39m\u001b[39munsplash\u001b[39m\u001b[39m\\\u001b[39m\u001b[39mHD배경/195_Perso.png\u001b[39m\u001b[39m\"\u001b[39m\n\u001b[1;32m----> 6\u001b[0m preprocessed_img_tensor \u001b[39m=\u001b[39m img_preprocess(\u001b[39mrf\u001b[39;49m\u001b[39m\"\u001b[39;49m\u001b[39m{\u001b[39;49;00mimg_path\u001b[39m}\u001b[39;49;00m\u001b[39m\"\u001b[39;49m\u001b[39m.\u001b[39;49mreplace(\u001b[39m\"\u001b[39;49m\u001b[39m\\\\\u001b[39;49;00m\u001b[39m\"\u001b[39;49m,\u001b[39m\"\u001b[39;49m\u001b[39m/\u001b[39;49m\u001b[39m\"\u001b[39;49m))\n\u001b[0;32m      7\u001b[0m is_product \u001b[39m=\u001b[39m run_model(model, preprocessed_img_tensor)\n\u001b[0;32m      9\u001b[0m \u001b[39mprint\u001b[39m(\u001b[39m\"\u001b[39m\u001b[39mBelow image is ***\u001b[39m\u001b[39m\"\u001b[39m, is_product, \u001b[39m\"\u001b[39m\u001b[39m***\u001b[39m\u001b[39m\"\u001b[39m)\n",
      "Cell \u001b[1;32mIn[3], line 4\u001b[0m, in \u001b[0;36mimg_preprocess\u001b[1;34m(img_path)\u001b[0m\n\u001b[0;32m      2\u001b[0m \u001b[39mdef\u001b[39;00m \u001b[39mimg_preprocess\u001b[39m(img_path):\n\u001b[0;32m      3\u001b[0m     image \u001b[39m=\u001b[39m Image\u001b[39m.\u001b[39mopen(img_path)\u001b[39m.\u001b[39mconvert(\u001b[39m'\u001b[39m\u001b[39mRGB\u001b[39m\u001b[39m'\u001b[39m)\n\u001b[1;32m----> 4\u001b[0m     preprocessed_img_tensor \u001b[39m=\u001b[39m data_transforms[\u001b[39m\"\u001b[39m\u001b[39mval\u001b[39m\u001b[39m\"\u001b[39m](image)\u001b[39m.\u001b[39mto(device)\n\u001b[0;32m      6\u001b[0m     \u001b[39mreturn\u001b[39;00m preprocessed_img_tensor\n",
      "\u001b[1;31mNameError\u001b[0m: name 'data_transforms' is not defined"
     ]
    }
   ],
   "source": [
    "# 이미지 path 입력\n",
    "img_path = r\"D:\\FAVORFIT\\product_imgs_each_tags\\unsplash\\HD배경/195_Perso.png\"\n",
    "\n",
    "\n",
    "\n",
    "preprocessed_img_tensor = img_preprocess(rf\"{img_path}\".replace(\"\\\\\",\"/\"))\n",
    "is_product = run_model(model, preprocessed_img_tensor)\n",
    "\n",
    "print(\"Below image is ***\", is_product, \"***\")\n",
    "img_show(preprocessed_img_tensor)"
   ]
  },
  {
   "cell_type": "code",
   "execution_count": null,
   "metadata": {},
   "outputs": [],
   "source": []
  }
 ],
 "metadata": {
  "kernelspec": {
   "display_name": "vir_py3.7",
   "language": "python",
   "name": "python3"
  },
  "language_info": {
   "codemirror_mode": {
    "name": "ipython",
    "version": 3
   },
   "file_extension": ".py",
   "mimetype": "text/x-python",
   "name": "python",
   "nbconvert_exporter": "python",
   "pygments_lexer": "ipython3",
   "version": "3.9.15"
  },
  "orig_nbformat": 4
 },
 "nbformat": 4,
 "nbformat_minor": 2
}
