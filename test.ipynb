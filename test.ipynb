{
 "cells": [
  {
   "cell_type": "code",
   "execution_count": 8,
   "metadata": {},
   "outputs": [],
   "source": [
    "from pymongo import MongoClient\n",
    "from pymongo import MongoClient, ASCENDING"
   ]
  },
  {
   "cell_type": "code",
   "execution_count": 2,
   "metadata": {},
   "outputs": [],
   "source": [
    "client = MongoClient(\"mongodb://localhost:27018/\")\n",
    "db = client[\"DBproduct_eng\"]\n",
    "collection = db[\"product_detection_data\"]"
   ]
  },
  {
   "cell_type": "code",
   "execution_count": 3,
   "metadata": {},
   "outputs": [
    {
     "data": {
      "text/plain": [
       "<pymongo.results.UpdateResult at 0x7ff7b161eb20>"
      ]
     },
     "execution_count": 3,
     "metadata": {},
     "output_type": "execute_result"
    }
   ],
   "source": [
    "# collection.update_many({},{'$rename': {'exp': 'ext'}})"
   ]
  },
  {
   "cell_type": "code",
   "execution_count": 4,
   "metadata": {},
   "outputs": [
    {
     "data": {
      "text/plain": [
       "<pymongo.results.UpdateResult at 0x7ff7b161ebe0>"
      ]
     },
     "execution_count": 4,
     "metadata": {},
     "output_type": "execute_result"
    }
   ],
   "source": [
    "# collection.update_many(\n",
    "#     {},\n",
    "#     [\n",
    "#         {\"$set\": {\n",
    "#             \"file_name\": {\n",
    "#                 \"$arrayElemAt\": [\n",
    "#                     {\"$split\": [\"$file_name\", \".\"]}, \n",
    "#                     0\n",
    "#                 ]\n",
    "#             }\n",
    "#         }}\n",
    "#     ]\n",
    "# )"
   ]
  },
  {
   "cell_type": "code",
   "execution_count": 9,
   "metadata": {},
   "outputs": [],
   "source": [
    "cursor = collection.find({}).sort(\"_id\", ASCENDING)"
   ]
  },
  {
   "cell_type": "code",
   "execution_count": 10,
   "metadata": {},
   "outputs": [
    {
     "data": {
      "text/plain": [
       "{'_id': ObjectId('649433c7109125e438a14ec9'),\n",
       " 'hash': '8cdcf1e34401861a9d16eba2067fc7ffa65917b13e4e698bf27e2b08abbd8ed2',\n",
       " 'file_name': '2_orang',\n",
       " 'tag': ['storage',\n",
       "  'makeupproduct',\n",
       "  'online',\n",
       "  'warehouse',\n",
       "  'shelf',\n",
       "  'product',\n",
       "  'makeupproducts',\n",
       "  'beautyproduct',\n",
       "  'feminineproduct',\n",
       "  'productphoto',\n",
       "  'thehomedepot'],\n",
       " 'HDD_name': 'sda',\n",
       " 'start_path': 'media/mlfavorfit',\n",
       " 'middle_path': 'product_img',\n",
       " 'source': 'unsplash',\n",
       " 'label': None,\n",
       " 'ext': 'jpeg'}"
      ]
     },
     "execution_count": 10,
     "metadata": {},
     "output_type": "execute_result"
    }
   ],
   "source": [
    "cursor.next()"
   ]
  },
  {
   "cell_type": "code",
   "execution_count": null,
   "metadata": {},
   "outputs": [],
   "source": []
  }
 ],
 "metadata": {
  "kernelspec": {
   "display_name": "kjg_ver39",
   "language": "python",
   "name": "python3"
  },
  "language_info": {
   "codemirror_mode": {
    "name": "ipython",
    "version": 3
   },
   "file_extension": ".py",
   "mimetype": "text/x-python",
   "name": "python",
   "nbconvert_exporter": "python",
   "pygments_lexer": "ipython3",
   "version": "3.9.16"
  },
  "orig_nbformat": 4
 },
 "nbformat": 4,
 "nbformat_minor": 2
}
