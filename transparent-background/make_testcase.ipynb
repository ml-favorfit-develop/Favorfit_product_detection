{
 "cells": [
  {
   "cell_type": "code",
   "execution_count": 1,
   "metadata": {},
   "outputs": [],
   "source": [
    "from torchvision.transforms import transforms"
   ]
  },
  {
   "cell_type": "code",
   "execution_count": 2,
   "metadata": {},
   "outputs": [],
   "source": [
    "from PIL import Image\n",
    "import os"
   ]
  },
  {
   "cell_type": "code",
   "execution_count": 3,
   "metadata": {},
   "outputs": [],
   "source": [
    "base_path = \"./test_imgs/original/\"\n",
    "file_list = os.listdir(base_path)"
   ]
  },
  {
   "cell_type": "code",
   "execution_count": 4,
   "metadata": {},
   "outputs": [],
   "source": [
    "target_scael = [(1024, 768), (1280, 1040), (1920, 1200), (2560, 1600), \\\n",
    "                (3840, 2400), (4096, 3072), (6400, 4800), (800,600)]"
   ]
  },
  {
   "cell_type": "code",
   "execution_count": 5,
   "metadata": {},
   "outputs": [],
   "source": [
    "def make_transformer(height, width):\n",
    "    seq = transforms.Compose([\n",
    "        transforms.Resize((height, width))\n",
    "    ])\n",
    "    return seq\n",
    "\n",
    "def transform_image_and_save(image, file_name, dir_path):\n",
    "    for width, height in target_scael:\n",
    "        seq = make_transformer(height, width)\n",
    "        resized_img = seq(image)\n",
    "\n",
    "        destination_dir = os.path.join(dir_path, f\"{width}_{height}\")\n",
    "        os.makedirs(destination_dir, exist_ok=True)\n",
    "\n",
    "        resized_img.save(os.path.join(destination_dir, f\"{width}_{height}_{file_name}.jpg\"))"
   ]
  },
  {
   "cell_type": "code",
   "execution_count": 6,
   "metadata": {},
   "outputs": [
    {
     "name": "stderr",
     "output_type": "stream",
     "text": [
      "Running...: 100%|██████████| 10/10 [00:12<00:00,  1.23s/it]\n"
     ]
    }
   ],
   "source": [
    "from tqdm import tqdm\n",
    "for file in tqdm(file_list, desc=\"Running...\", total=len(file_list)):\n",
    "    image = Image.open(os.path.join(base_path, file))\n",
    "    transform_image_and_save(image, os.path.splitext(file)[0], \"./test_imgs/resized/\")"
   ]
  },
  {
   "cell_type": "code",
   "execution_count": null,
   "metadata": {},
   "outputs": [],
   "source": []
  }
 ],
 "metadata": {
  "kernelspec": {
   "display_name": "kjk_py39",
   "language": "python",
   "name": "python3"
  },
  "language_info": {
   "codemirror_mode": {
    "name": "ipython",
    "version": 3
   },
   "file_extension": ".py",
   "mimetype": "text/x-python",
   "name": "python",
   "nbconvert_exporter": "python",
   "pygments_lexer": "ipython3",
   "version": "3.9.15"
  },
  "orig_nbformat": 4
 },
 "nbformat": 4,
 "nbformat_minor": 2
}
